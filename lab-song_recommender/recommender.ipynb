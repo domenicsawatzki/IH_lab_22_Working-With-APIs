{
 "cells": [
  {
   "cell_type": "code",
   "execution_count": 104,
   "metadata": {},
   "outputs": [],
   "source": [
    "import pandas as pd\n",
    "from pandas import json_normalize\n",
    "import spotipy\n",
    "from spotipy.oauth2 import SpotifyClientCredentials\n",
    "import pickle\n",
    "from tqdm import tqdm\n",
    "import time "
   ]
  },
  {
   "cell_type": "code",
   "execution_count": 105,
   "metadata": {},
   "outputs": [],
   "source": [
    "# loading cluster dataset"
   ]
  },
  {
   "cell_type": "code",
   "execution_count": 106,
   "metadata": {},
   "outputs": [],
   "source": [
    "def connect_spotipy():\n",
    "    with open(\"secrets.txt\",\"r\") as f:\n",
    "        string = f.read()\n",
    "    \n",
    "    secrets_dict={}\n",
    "    \n",
    "    for line in string.split('\\n'):\n",
    "        if len(line) > 0:\n",
    "            #print(line.split(':'))\n",
    "            secrets_dict[line.split(':')[0]]=line.split(':')[1].strip()\n",
    "            \n",
    "\n",
    "    #Initialize SpotiPy with user credentials\n",
    "    sp = spotipy.Spotify(auth_manager=SpotifyClientCredentials(client_id=secrets_dict['clientid'],\n",
    "                                                            client_secret=secrets_dict['clientsecret']))\n",
    "    return sp"
   ]
  },
  {
   "cell_type": "code",
   "execution_count": 107,
   "metadata": {},
   "outputs": [
    {
     "data": {
      "text/html": [
       "<div>\n",
       "<style scoped>\n",
       "    .dataframe tbody tr th:only-of-type {\n",
       "        vertical-align: middle;\n",
       "    }\n",
       "\n",
       "    .dataframe tbody tr th {\n",
       "        vertical-align: top;\n",
       "    }\n",
       "\n",
       "    .dataframe thead th {\n",
       "        text-align: right;\n",
       "    }\n",
       "</style>\n",
       "<table border=\"1\" class=\"dataframe\">\n",
       "  <thead>\n",
       "    <tr style=\"text-align: right;\">\n",
       "      <th></th>\n",
       "      <th>Unnamed: 0</th>\n",
       "      <th>Song</th>\n",
       "      <th>Artist</th>\n",
       "    </tr>\n",
       "  </thead>\n",
       "  <tbody>\n",
       "    <tr>\n",
       "      <th>0</th>\n",
       "      <td>0</td>\n",
       "      <td>Rich Men North of Richmond</td>\n",
       "      <td>Oliver Anthony Music</td>\n",
       "    </tr>\n",
       "    <tr>\n",
       "      <th>1</th>\n",
       "      <td>1</td>\n",
       "      <td>Paint The Town Red</td>\n",
       "      <td>Doja Cat</td>\n",
       "    </tr>\n",
       "  </tbody>\n",
       "</table>\n",
       "</div>"
      ],
      "text/plain": [
       "   Unnamed: 0                        Song                Artist\n",
       "0           0  Rich Men North of Richmond  Oliver Anthony Music\n",
       "1           1          Paint The Town Red              Doja Cat"
      ]
     },
     "execution_count": 107,
     "metadata": {},
     "output_type": "execute_result"
    }
   ],
   "source": [
    "with open(\"temp_data/top100.csv\", 'rb') as f:\n",
    "    df1 = pd.read_csv(f)\n",
    "\n",
    "df1.head(2)"
   ]
  },
  {
   "cell_type": "code",
   "execution_count": 108,
   "metadata": {},
   "outputs": [
    {
     "data": {
      "text/html": [
       "<div>\n",
       "<style scoped>\n",
       "    .dataframe tbody tr th:only-of-type {\n",
       "        vertical-align: middle;\n",
       "    }\n",
       "\n",
       "    .dataframe tbody tr th {\n",
       "        vertical-align: top;\n",
       "    }\n",
       "\n",
       "    .dataframe thead th {\n",
       "        text-align: right;\n",
       "    }\n",
       "</style>\n",
       "<table border=\"1\" class=\"dataframe\">\n",
       "  <thead>\n",
       "    <tr style=\"text-align: right;\">\n",
       "      <th></th>\n",
       "      <th>Unnamed: 0</th>\n",
       "      <th>track.id</th>\n",
       "      <th>track.name</th>\n",
       "      <th>artist_name</th>\n",
       "      <th>track.external_urls.spotify</th>\n",
       "      <th>artist_dict</th>\n",
       "      <th>track.album.id</th>\n",
       "      <th>track.album.name</th>\n",
       "      <th>track.album.images</th>\n",
       "      <th>track.album.release_date</th>\n",
       "      <th>cluster</th>\n",
       "    </tr>\n",
       "  </thead>\n",
       "  <tbody>\n",
       "    <tr>\n",
       "      <th>0</th>\n",
       "      <td>0</td>\n",
       "      <td>31nfdEooLEq7dn3UMcIeB5</td>\n",
       "      <td>Vois sur ton chemin - Techno Mix</td>\n",
       "      <td>BENNETT</td>\n",
       "      <td>https://open.spotify.com/track/31nfdEooLEq7dn3...</td>\n",
       "      <td>{0: {'external_urls': {'spotify': 'https://ope...</td>\n",
       "      <td>79Cyc8GRWnLyjdJSMyJ0dB</td>\n",
       "      <td>Vois sur ton chemin (Techno Mix)</td>\n",
       "      <td>[{'height': 640, 'url': 'https://i.scdn.co/ima...</td>\n",
       "      <td>2023-08-04</td>\n",
       "      <td>1</td>\n",
       "    </tr>\n",
       "    <tr>\n",
       "      <th>1</th>\n",
       "      <td>1</td>\n",
       "      <td>0gMTEHzNIyvxikxyUFFJxO</td>\n",
       "      <td>Summertime</td>\n",
       "      <td>Kontra K</td>\n",
       "      <td>https://open.spotify.com/track/0gMTEHzNIyvxikx...</td>\n",
       "      <td>{0: {'external_urls': {'spotify': 'https://ope...</td>\n",
       "      <td>3d5e4tp3t5zTGu44NM88LQ</td>\n",
       "      <td>Summertime</td>\n",
       "      <td>[{'height': 640, 'url': 'https://i.scdn.co/ima...</td>\n",
       "      <td>2023-08-10</td>\n",
       "      <td>1</td>\n",
       "    </tr>\n",
       "  </tbody>\n",
       "</table>\n",
       "</div>"
      ],
      "text/plain": [
       "   Unnamed: 0                track.id                        track.name  \\\n",
       "0           0  31nfdEooLEq7dn3UMcIeB5  Vois sur ton chemin - Techno Mix   \n",
       "1           1  0gMTEHzNIyvxikxyUFFJxO                        Summertime   \n",
       "\n",
       "  artist_name                        track.external_urls.spotify  \\\n",
       "0     BENNETT  https://open.spotify.com/track/31nfdEooLEq7dn3...   \n",
       "1    Kontra K  https://open.spotify.com/track/0gMTEHzNIyvxikx...   \n",
       "\n",
       "                                         artist_dict          track.album.id  \\\n",
       "0  {0: {'external_urls': {'spotify': 'https://ope...  79Cyc8GRWnLyjdJSMyJ0dB   \n",
       "1  {0: {'external_urls': {'spotify': 'https://ope...  3d5e4tp3t5zTGu44NM88LQ   \n",
       "\n",
       "                   track.album.name  \\\n",
       "0  Vois sur ton chemin (Techno Mix)   \n",
       "1                        Summertime   \n",
       "\n",
       "                                  track.album.images track.album.release_date  \\\n",
       "0  [{'height': 640, 'url': 'https://i.scdn.co/ima...               2023-08-04   \n",
       "1  [{'height': 640, 'url': 'https://i.scdn.co/ima...               2023-08-10   \n",
       "\n",
       "   cluster  \n",
       "0        1  \n",
       "1        1  "
      ]
     },
     "execution_count": 108,
     "metadata": {},
     "output_type": "execute_result"
    }
   ],
   "source": [
    "with open(\"temp_data/clustered_songs.csv\", 'rb') as f:\n",
    "    df2 = pd.read_csv(f)\n",
    "\n",
    "df2.head(2)"
   ]
  },
  {
   "cell_type": "code",
   "execution_count": 109,
   "metadata": {},
   "outputs": [],
   "source": [
    "# def return_top_list(tracks, song):\n",
    "#     print(f\"There are many songs with the name {song}. Which one do you want?\")\n",
    "    \n",
    "#     for i in range(len(tracks)):\n",
    "#         song_url = tracks.iloc[i]['external_urls.spotify']  \n",
    "#         song_artist = tracks.iloc[i]['artists'][0]['name']\n",
    "#         track_name = tracks.iloc[0]['name']\n",
    "\n",
    "#         print(f\"\"\" \n",
    "#         Song {i+1}: {track_name} from {song_artist} -> {song_url}                 \n",
    "#         \"\"\")\n",
    "          \n",
    "#     try:\n",
    "#         selection = int(input('Which one do you want?')) - 1\n",
    "#         return tracks.iloc[selection]['id']\n",
    "#     except (ValueError, IndexError):\n",
    "#         print(\"Invalid selection, please try again.\")\n",
    "#         return None"
   ]
  },
  {
   "cell_type": "code",
   "execution_count": 115,
   "metadata": {},
   "outputs": [],
   "source": [
    "def song_recommender(df1, df2):\n",
    "    sp = connect_spotipy()\n",
    "    song_id = None\n",
    "    \n",
    "    while song_id is None:\n",
    "        song = input(\"Please enter the name of a song: \")\n",
    "        sp = connect_spotipy()\n",
    "        request = sp.search(q='track:' + song, type='track')\n",
    "        tracks = pd.json_normalize(request[\"tracks\"]['items'])\n",
    "        if not tracks.empty:\n",
    "            song_id = tracks.iloc[0]['id']\n",
    "            song_url = tracks.iloc[0]['external_urls.spotify']\n",
    "            song_artist = tracks.iloc[0]['artists'][0]['name']\n",
    "            track_name = tracks.iloc[0]['name']\n",
    "            print(f\"\"\"end=\n",
    "Searching for song thats matches too {track_name} by {song_artist}:                  \n",
    "                  \"\"\")\n",
    "        else:\n",
    "            print(\"Song not found in Spotify.\")\n",
    "            return\n",
    "        \n",
    "    audio_features_list = sp.audio_features(song_id)\n",
    "    audio_features_df = pd.json_normalize(audio_features_list)\n",
    "    audio_features_df = audio_features_df[['duration_ms', 'danceability','energy', 'key', 'loudness', 'mode', 'speechiness', 'acousticness','instrumentalness', 'liveness', 'valence', 'tempo', 'time_signature']]    \n",
    "    \n",
    "    with open(\"model_data/standardScaler.p\", 'rb') as f:\n",
    "        loaded_scaler = pickle.load(f)\n",
    "        X = loaded_scaler.transform(audio_features_df)\n",
    "    with open(\"model_data/kmean_model.p\", 'rb') as f:\n",
    "        loaded_model = pickle.load(f)\n",
    "        clusters = loaded_model.predict(X)\n",
    "    \n",
    "    matching_song = df1[(df1['Song'].str.lower() == song.lower())]\n",
    "    if not matching_song.empty:\n",
    "        print(f\"The song '{matching_song['Song'].values[0]}' by {matching_song['artist'].values[0]} matches your input.\")\n",
    "        recommended_song = df1[df1['song'].str.lower() != song].sample(1)\n",
    "        print(f\"Here's a recommended song: '{recommended_song['song'].values[0]}' by {recommended_song['artist'].values[0]}\")\n",
    "        results2 = sp.search(q='track:' + recommended_song['song'].values[0], type='track')\n",
    "        track2 = pd.json_normalize(results2[\"tracks\"][\"items\"])\n",
    "        song_url = track2.iloc[0]['external_urls.spotify']\n",
    "        print(f\"Here's a url of the song: {song_url}\")\n",
    "    else:\n",
    "        cluster_df = df2[df2['cluster'] == clusters[0]]\n",
    "        recommended_song2 = cluster_df[cluster_df['track.name'].str.lower() != song].sample(1)\n",
    "        print(f\"Song Recommendation: '{recommended_song2['track.name'].values[0]}' by {recommended_song2['artist_name'].values[0]}\")\n",
    "        results3 = sp.search(q='track:' + recommended_song2['track.name'].values[0], type='track')\n",
    "        track3 = pd.json_normalize(results3[\"tracks\"][\"items\"])\n",
    "        song_url = track3.iloc[0]['external_urls.spotify']\n",
    "        print(f\"Song URL: {song_url}\")"
   ]
  },
  {
   "cell_type": "code",
   "execution_count": 116,
   "metadata": {},
   "outputs": [
    {
     "name": "stdout",
     "output_type": "stream",
     "text": [
      "end=\n",
      "Searching for song thats matches too Somebody to Love by Jefferson Airplane:                  \n",
      "                  \n",
      "Song Recommendation: 'Emergency' by Sofi Tukker\n"
     ]
    },
    {
     "name": "stderr",
     "output_type": "stream",
     "text": [
      "C:\\Users\\Domen\\anaconda3\\lib\\site-packages\\sklearn\\base.py:420: UserWarning: X does not have valid feature names, but KMeans was fitted with feature names\n",
      "  warnings.warn(\n"
     ]
    },
    {
     "name": "stdout",
     "output_type": "stream",
     "text": [
      "Song URL: https://open.spotify.com/track/4amltxLIfFmtYEvZbdgDqO\n"
     ]
    }
   ],
   "source": [
    "\n",
    "song_recommender(df1, df2)"
   ]
  },
  {
   "cell_type": "markdown",
   "metadata": {},
   "source": [
    "currently really bad suggestions and the code breaks easily. "
   ]
  }
 ],
 "metadata": {
  "kernelspec": {
   "display_name": "Python 3 (ipykernel)",
   "language": "python",
   "name": "python3"
  },
  "language_info": {
   "codemirror_mode": {
    "name": "ipython",
    "version": 3
   },
   "file_extension": ".py",
   "mimetype": "text/x-python",
   "name": "python",
   "nbconvert_exporter": "python",
   "pygments_lexer": "ipython3",
   "version": "3.10.9"
  },
  "orig_nbformat": 4
 },
 "nbformat": 4,
 "nbformat_minor": 2
}
